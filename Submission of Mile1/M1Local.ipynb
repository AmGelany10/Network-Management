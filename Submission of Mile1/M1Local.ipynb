{
 "cells": [
  {
   "cell_type": "markdown",
   "id": "66a7544e",
   "metadata": {},
   "source": [
    "## NETW1001 Network Management\n",
    "> ### Project-Mile1"
   ]
  },
  {
   "cell_type": "markdown",
   "id": "2f1b55d6",
   "metadata": {},
   "source": [
    "#### Install snmp and pysnmp"
   ]
  },
  {
   "cell_type": "code",
   "execution_count": 2,
   "id": "a374dc83",
   "metadata": {},
   "outputs": [
    {
     "name": "stdout",
     "output_type": "stream",
     "text": [
      "Collecting snmp\n",
      "  Downloading snmp-0.1.7-py3-none-any.whl (28 kB)\n",
      "Installing collected packages: snmp\n",
      "Successfully installed snmp-0.1.7\n"
     ]
    }
   ],
   "source": [
    "!pip install snmp"
   ]
  },
  {
   "cell_type": "code",
   "execution_count": 3,
   "id": "afcdf3cf",
   "metadata": {},
   "outputs": [
    {
     "name": "stdout",
     "output_type": "stream",
     "text": [
      "Collecting pysnmp\n",
      "  Downloading pysnmp-4.4.12-py2.py3-none-any.whl (296 kB)\n",
      "Collecting pyasn1>=0.2.3\n",
      "  Using cached pyasn1-0.4.8-py2.py3-none-any.whl (77 kB)\n",
      "Collecting pycryptodomex\n",
      "  Downloading pycryptodomex-3.14.1-cp35-abi3-win_amd64.whl (1.8 MB)\n",
      "Collecting pysmi\n",
      "  Downloading pysmi-0.3.4-py2.py3-none-any.whl (80 kB)\n",
      "Requirement already satisfied: ply in c:\\users\\abdog\\anaconda3\\lib\\site-packages (from pysmi->pysnmp) (3.11)\n",
      "Installing collected packages: pysmi, pycryptodomex, pyasn1, pysnmp\n",
      "Successfully installed pyasn1-0.4.8 pycryptodomex-3.14.1 pysmi-0.3.4 pysnmp-4.4.12\n"
     ]
    }
   ],
   "source": [
    "! pip install pysnmp"
   ]
  },
  {
   "cell_type": "markdown",
   "id": "abb0355f",
   "metadata": {},
   "source": [
    "# ============================================================="
   ]
  },
  {
   "cell_type": "markdown",
   "id": "712fc3de",
   "metadata": {},
   "source": [
    "#### Importing"
   ]
  },
  {
   "cell_type": "code",
   "execution_count": 3,
   "id": "97314b31",
   "metadata": {},
   "outputs": [],
   "source": [
    "import pysnmp as pysnmp_\n",
    "import snmp as snmp_\n",
    "\n",
    "import logging\n",
    "import time\n",
    "\n",
    "from snmp import Manager\n",
    "from snmp.exceptions import Timeout\n",
    "\n",
    "# uncomment this for verbose output\n",
    "#logging.basicConfig(level=logging.DEBUG)"
   ]
  },
  {
   "cell_type": "markdown",
   "id": "a1e13213",
   "metadata": {},
   "source": [
    "# ============================================================="
   ]
  },
  {
   "cell_type": "markdown",
   "id": "bc3cbd66",
   "metadata": {},
   "source": [
    "#### <font color='mentage'>GET</font> request for\n",
    "> #### sysDescr.0\n",
    "> #### sysName.0"
   ]
  },
  {
   "cell_type": "code",
   "execution_count": 44,
   "id": "1daf25c0",
   "metadata": {},
   "outputs": [
    {
     "name": "stdout",
     "output_type": "stream",
     "text": [
      "127.0.0.1\n",
      "VarBind:\n",
      "\tOID: '1.3.6.1.2.1.1.1.0'\n",
      "\tOCTET_STRING: b'Hardware: Intel64 Family 6 Model 141 Stepping 1 AT/AT COMPATIBLE - Software: Windows Version 6.3 (Build 19043 Multiprocessor Free)'\n",
      "\n",
      "VarBind:\n",
      "\tOID: '1.3.6.1.2.1.1.5.0'\n",
      "\tOCTET_STRING: b'DESKTOP-4LO6RF3'\n",
      "\n",
      "Took 0.0020227432250976562 seconds\n"
     ]
    }
   ],
   "source": [
    "manager = Manager(b'public')                  # REPLACE 'public' with your community string\n",
    "try:\n",
    "    hosts = [\"127.0.0.1\"]                    # REPLACE these IPs with real IPs\n",
    "    oids = [\"1.3.6.1.2.1.1.1.0\", \"1.3.6.1.2.1.1.5.0\"]   # [MIB::sysDescr.0, MIB::sysName.0]\n",
    "\n",
    "    start = time.time()\n",
    "\n",
    "    # removing this loop will increase run time on average\n",
    "    \n",
    "    # loop over all the hosts that I as an a manager monitors\n",
    "    for host in hosts:\n",
    "        vars = manager.get(host, *oids)\n",
    "        print(host)\n",
    "        for var in vars:\n",
    "            print(var)\n",
    "\n",
    "    end = time.time()\n",
    "    print(\"Took {} seconds\".format(end - start))\n",
    "\n",
    "except Timeout as e:\n",
    "    print(\"Request for {} from host {} timed out\".format(e, host))\n",
    "\n",
    "finally:\n",
    "    manager.close()"
   ]
  },
  {
   "cell_type": "markdown",
   "id": "da2a415e",
   "metadata": {},
   "source": [
    "####  Next cell for testing with another approach"
   ]
  },
  {
   "cell_type": "code",
   "execution_count": 5,
   "id": "ae3b1ddf",
   "metadata": {},
   "outputs": [
    {
     "name": "stdout",
     "output_type": "stream",
     "text": [
      "127.0.0.1\n",
      "VarBind:\n",
      "\tOID: '1.3.6.1.2.1.1.1.0'\n",
      "\tOCTET_STRING: b'Hardware: Intel64 Family 6 Model 141 Stepping 1 AT/AT COMPATIBLE - Software: Windows Version 6.3 (Build 19043 Multiprocessor Free)'\n",
      "\n",
      "VarBind:\n",
      "\tOID: '1.3.6.1.2.1.1.6.0'\n",
      "\tOCTET_STRING: b'Egypt-Cairo-GUC-C3'\n",
      "\n",
      "Took 0.0019445419311523438 seconds\n"
     ]
    }
   ],
   "source": [
    "manager = Manager(b'public')                 # REPLACE 'public' with your community string\n",
    "try:\n",
    "    hosts = [\"127.0.0.1\"]                    # REPLACE these IPs with real IPs\n",
    "    oids = [\"1.3.6.1.2.1.1.1.0\", \"1.3.6.1.2.1.1.6.0\"]   # [MIB::sysDescr.0, MIB::sysLocation.0]\n",
    "\n",
    "    start = time.time()\n",
    "\n",
    "    # removing this loop will increase run time on average\n",
    "    \n",
    "    # loop over all the hosts that I as an a manager monitors\n",
    "    for host in hosts:\n",
    "        manager.get(host, *oids, block=False, timeout=1)\n",
    "\n",
    "    for host in hosts:\n",
    "        vars = manager.get(host, *oids)\n",
    "        print(host)\n",
    "        for var in vars:\n",
    "            print(var)\n",
    "\n",
    "    end = time.time()\n",
    "    print(\"Took {} seconds\".format(end - start))\n",
    "\n",
    "except Timeout as e:\n",
    "    print(\"Request for {} from host {} timed out\".format(e, host))\n",
    "\n",
    "finally:\n",
    "    manager.close()"
   ]
  },
  {
   "cell_type": "markdown",
   "id": "ebf358d5",
   "metadata": {},
   "source": [
    "# ============================================================="
   ]
  },
  {
   "cell_type": "markdown",
   "id": "3bc2ca6a",
   "metadata": {},
   "source": [
    "#### <font color='mentage'>GETNEXT</font> request for\n",
    "> #### IP.ipAddrTable.ipAddrEntry.ipAdEntAddr"
   ]
  },
  {
   "cell_type": "code",
   "execution_count": 6,
   "id": "849349d9",
   "metadata": {},
   "outputs": [
    {
     "name": "stdout",
     "output_type": "stream",
     "text": [
      "VarBind:\n",
      "\tOID: '1.3.6.1.2.1.4.20.1.1.10.6.0.172'\n",
      "\tIpAddress: '10.6.0.172'\n",
      "\n",
      "Took 0.005198478698730469 seconds\n"
     ]
    }
   ],
   "source": [
    "manager = Manager(b'public')                 # REPLACE 'public' with your community string\n",
    "try:\n",
    "    hosts = [\"127.0.0.1\"]                    # REPLACE these IPs with real IPs\n",
    "    oids = [\"1.3.6.1.2.1.4.20.1.1\"]   # [ IP. ipAddrTable. ipAddrEntry.IPADENTADDR]\n",
    "\n",
    "    start = time.time()\n",
    "\n",
    "    # loop over all the hosts that I as an a manager monitors\n",
    "    for host in hosts:\n",
    "\n",
    "        vars = manager.get(host, *oids, next=True)\n",
    "        for var in vars:\n",
    "            print(var)\n",
    "\n",
    "    end = time.time()\n",
    "    print(\"Took {} seconds\".format(end - start))\n",
    "\n",
    "except Timeout as e:\n",
    "    print(\"Request for {} from host {} timed out\".format(e, host))\n",
    "\n",
    "finally:\n",
    "    manager.close()"
   ]
  },
  {
   "cell_type": "markdown",
   "id": "f7d77e8e",
   "metadata": {},
   "source": [
    "# ============================================================="
   ]
  },
  {
   "cell_type": "markdown",
   "id": "877aee07",
   "metadata": {},
   "source": [
    "#### <font color='mentage'>SET</font> request for\n",
    "> #### sysContact"
   ]
  },
  {
   "cell_type": "code",
   "execution_count": 38,
   "id": "214238ce",
   "metadata": {
    "scrolled": true
   },
   "outputs": [
    {
     "name": "stdout",
     "output_type": "stream",
     "text": [
      "127.0.0.1\n",
      "VarBind:\n",
      "\tOID: '1.3.6.1.2.1.1.4.0'\n",
      "\tOCTET_STRING: b'Benzo'\n",
      "\n",
      "Took 0.0019998550415039062 seconds\n"
     ]
    }
   ],
   "source": [
    "manager = Manager(b'public')                 # REPLACE 'public' with your community string\n",
    "try:\n",
    "    hosts = [\"127.0.0.1\"]                    # REPLACE these IPs with real IPs\n",
    "    oid = \"1.3.6.1.2.1.1.4.0\"   # [syscontact.0]\n",
    "\n",
    "    start = time.time()\n",
    "    value=\"Benzo\"\n",
    "    \n",
    "    # loop over all the hosts that I as an a manager monitors\n",
    "    for host in hosts:\n",
    "        vars = manager.set(host, oid, value)\n",
    "        print(host)\n",
    "        for var in vars:\n",
    "            print(var)\n",
    "\n",
    "\n",
    "\n",
    "    end = time.time()\n",
    "    print(\"Took {} seconds\".format(end - start))\n",
    "\n",
    "except Timeout as e:\n",
    "    print(\"Request for {} from host {} timed out\".format(e, host))\n",
    "\n",
    "finally:\n",
    "    manager.close()"
   ]
  },
  {
   "cell_type": "markdown",
   "id": "8d63b8f7",
   "metadata": {},
   "source": [
    "# ============================================================="
   ]
  },
  {
   "cell_type": "markdown",
   "id": "5b9b240c",
   "metadata": {},
   "source": [
    "#### <font color='mentage'>TRAP</font> for\n",
    "> #### sysLocation"
   ]
  },
  {
   "cell_type": "code",
   "execution_count": 45,
   "id": "43eed88c",
   "metadata": {},
   "outputs": [],
   "source": [
    "from pysnmp.hlapi import *\n",
    "\n",
    "def sendSNMP_Trap(destination, community_string,oid):\n",
    "    community = CommunityData(community_string)\n",
    "    target = UdpTransportTarget((destination, 162))\n",
    "    notification_type = None\n",
    "    req = sendNotification(SnmpEngine(), community, target, ContextData(), 'trap', NotificationType(ObjectIdentity(oid), OctetString('Benzo')))\n",
    "    next(req)\n"
   ]
  },
  {
   "cell_type": "code",
   "execution_count": 46,
   "id": "52a291ff",
   "metadata": {},
   "outputs": [],
   "source": [
    "#sendSNMP_Trap('127.0.0.1', \"public\",\"1.3.6.1.2.1.1.4.0\")"
   ]
  },
  {
   "cell_type": "code",
   "execution_count": 47,
   "id": "0e7b0d5c",
   "metadata": {},
   "outputs": [
    {
     "name": "stdout",
     "output_type": "stream",
     "text": [
      "Took 0.2837812900543213 seconds\n"
     ]
    }
   ],
   "source": [
    "#new_Set_with_condition_for_TRAP:-\n",
    "\n",
    "manager = Manager(b'public')                 # REPLACE 'public' with your community string\n",
    "try:\n",
    "    hosts = [\"127.0.0.1\"]                    # REPLACE these IPs with real IPs\n",
    "    oid = \"1.3.6.1.2.1.1.6.0\"   # [sysLocation.0]\n",
    "\n",
    "    start = time.time()\n",
    "    value=[1,2,2]\n",
    "    \n",
    "    # loop over all the hosts that I as an a manager monitors\n",
    "    for host in hosts:\n",
    "        if (type(value) == str):\n",
    "            vars = manager.set(host, oid, value)\n",
    "            print(host)\n",
    "            for var in vars:\n",
    "                print(var)\n",
    "        else:\n",
    "            sendSNMP_Trap(host,'public',oid)\n",
    "\n",
    "\n",
    "\n",
    "    end = time.time()\n",
    "    print(\"Took {} seconds\".format(end - start))\n",
    "\n",
    "except Timeout as e:\n",
    "    print(\"Request for {} from host {} timed out\".format(e, host))\n",
    "\n",
    "finally:\n",
    "    manager.close()"
   ]
  },
  {
   "cell_type": "markdown",
   "id": "088f6f79",
   "metadata": {},
   "source": [
    "# ============================================================="
   ]
  }
 ],
 "metadata": {
  "kernelspec": {
   "display_name": "Python 3",
   "language": "python",
   "name": "python3"
  },
  "language_info": {
   "codemirror_mode": {
    "name": "ipython",
    "version": 3
   },
   "file_extension": ".py",
   "mimetype": "text/x-python",
   "name": "python",
   "nbconvert_exporter": "python",
   "pygments_lexer": "ipython3",
   "version": "3.8.8"
  }
 },
 "nbformat": 4,
 "nbformat_minor": 5
}
