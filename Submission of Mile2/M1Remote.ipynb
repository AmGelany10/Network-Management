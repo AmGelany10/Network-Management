{
 "cells": [
  {
   "cell_type": "markdown",
   "id": "2f1b55d6",
   "metadata": {},
   "source": [
    "# Install snmp and pysnmp"
   ]
  },
  {
   "cell_type": "code",
   "execution_count": 2,
   "id": "a374dc83",
   "metadata": {},
   "outputs": [
    {
     "name": "stdout",
     "output_type": "stream",
     "text": [
      "Collecting snmp\n",
      "  Downloading snmp-0.1.7-py3-none-any.whl (28 kB)\n",
      "Installing collected packages: snmp\n",
      "Successfully installed snmp-0.1.7\n"
     ]
    }
   ],
   "source": [
    "!pip install snmp"
   ]
  },
  {
   "cell_type": "code",
   "execution_count": 3,
   "id": "afcdf3cf",
   "metadata": {},
   "outputs": [
    {
     "name": "stdout",
     "output_type": "stream",
     "text": [
      "Collecting pysnmp\n",
      "  Downloading pysnmp-4.4.12-py2.py3-none-any.whl (296 kB)\n",
      "Collecting pyasn1>=0.2.3\n",
      "  Using cached pyasn1-0.4.8-py2.py3-none-any.whl (77 kB)\n",
      "Collecting pycryptodomex\n",
      "  Downloading pycryptodomex-3.14.1-cp35-abi3-win_amd64.whl (1.8 MB)\n",
      "Collecting pysmi\n",
      "  Downloading pysmi-0.3.4-py2.py3-none-any.whl (80 kB)\n",
      "Requirement already satisfied: ply in c:\\users\\abdog\\anaconda3\\lib\\site-packages (from pysmi->pysnmp) (3.11)\n",
      "Installing collected packages: pysmi, pycryptodomex, pyasn1, pysnmp\n",
      "Successfully installed pyasn1-0.4.8 pycryptodomex-3.14.1 pysmi-0.3.4 pysnmp-4.4.12\n"
     ]
    }
   ],
   "source": [
    "! pip install pysnmp"
   ]
  },
  {
   "cell_type": "code",
   "execution_count": 1,
   "id": "903c02fe",
   "metadata": {},
   "outputs": [],
   "source": [
    "import pysnmp as pysnmp_"
   ]
  },
  {
   "cell_type": "code",
   "execution_count": 2,
   "id": "7c878b4d",
   "metadata": {},
   "outputs": [],
   "source": [
    "import snmp as snmp_"
   ]
  },
  {
   "cell_type": "code",
   "execution_count": 26,
   "id": "97314b31",
   "metadata": {},
   "outputs": [],
   "source": [
    "import logging\n",
    "import time\n",
    "\n",
    "from snmp import Manager\n",
    "from snmp.exceptions import Timeout\n",
    "\n",
    "# uncomment this for verbose output\n",
    "logging.basicConfig(level=logging.DEBUG)\n",
    "\n",
    "# REPLACE 'public' with your community string\n",
    "# manager = Manager(b'public')\n",
    "\n"
   ]
  },
  {
   "cell_type": "markdown",
   "id": "bc3cbd66",
   "metadata": {},
   "source": [
    "### GET request for sysDescr.0, sysName.0"
   ]
  },
  {
   "cell_type": "code",
   "execution_count": 27,
   "id": "1daf25c0",
   "metadata": {},
   "outputs": [
    {
     "name": "stderr",
     "output_type": "stream",
     "text": [
      "DEBUG:snmp.v1:Sent request to 127.0.0.1 (ID=1248671459)\n",
      "DEBUG:snmp.v1:Done processing response from 127.0.0.1 (ID=1248671459)\n",
      "DEBUG:snmp.v1:Sent request to 192.168.1.103 (ID=-1797624378)\n"
     ]
    },
    {
     "name": "stdout",
     "output_type": "stream",
     "text": [
      "127.0.0.1\n",
      "VarBind:\n",
      "\tOID: '1.3.6.1.2.1.1.1.0'\n",
      "\tOCTET_STRING: b'Hardware: Intel64 Family 6 Model 141 Stepping 1 AT/AT COMPATIBLE - Software: Windows Version 6.3 (Build 19043 Multiprocessor Free)'\n",
      "\n",
      "VarBind:\n",
      "\tOID: '1.3.6.1.2.1.1.5.0'\n",
      "\tOCTET_STRING: b'DESKTOP-4LO6RF3'\n",
      "\n"
     ]
    },
    {
     "name": "stderr",
     "output_type": "stream",
     "text": [
      "DEBUG:snmp.v1:Done processing response from 192.168.1.103 (ID=-1797624378)\n",
      "DEBUG:snmp.v1:Sending shutdown signal to helper threads\n",
      "DEBUG:snmp.v1:Monitor thread exiting\n"
     ]
    },
    {
     "name": "stdout",
     "output_type": "stream",
     "text": [
      "192.168.1.103\n",
      "VarBind:\n",
      "\tOID: '1.3.6.1.2.1.1.1.0'\n",
      "\tOCTET_STRING: b'Hardware: Intel64 Family 6 Model 142 Stepping 9 AT/AT COMPATIBLE - Software: Windows Version 6.3 (Build 19041 Multiprocessor Free)'\n",
      "\n",
      "VarBind:\n",
      "\tOID: '1.3.6.1.2.1.1.5.0'\n",
      "\tOCTET_STRING: b'DESKTOP-P3QR22B'\n",
      "\n",
      "Took 0.2421433925628662 seconds\n"
     ]
    },
    {
     "name": "stderr",
     "output_type": "stream",
     "text": [
      "DEBUG:snmp.v1:Listener thread exiting\n",
      "DEBUG:snmp.v1:All helper threads done\n"
     ]
    }
   ],
   "source": [
    "# REPLACE 'public' with your community string\n",
    "manager = Manager(b'public')\n",
    "try:\n",
    "    hosts = [\"127.0.0.1\",\"192.168.1.103\"]                    # REPLACE these IPs with real IPs\n",
    "    oids = [\"1.3.6.1.2.1.1.1.0\", \"1.3.6.1.2.1.1.5.0\"]   # [MIB::sysDescr.0, MIB::sysName.0]\n",
    "\n",
    "    start = time.time()\n",
    "\n",
    "    # removing this loop will increase run time on average\n",
    "    # loop over all the hosts that I as an a manager monitors\n",
    "\n",
    "    logging.basicConfig(level=logging.DEBUG)\n",
    "#     logging.basicConfig(level=logging.INFO)\n",
    "    for host in hosts:\n",
    "        vars = manager.get(host, *oids)\n",
    "        print(host)\n",
    "        for var in vars:\n",
    "            print(var)\n",
    "\n",
    "#         vars = manager.get(host, *oids, next=True)\n",
    "#         for var in vars:\n",
    "#             print(var)\n",
    "\n",
    "    end = time.time()\n",
    "    print(\"Took {} seconds\".format(end - start))\n",
    "\n",
    "except Timeout as e:\n",
    "    print(\"Request for {} from host {} timed out\".format(e, host))\n",
    "\n",
    "finally:\n",
    "    manager.close()"
   ]
  },
  {
   "cell_type": "markdown",
   "id": "3bc2ca6a",
   "metadata": {},
   "source": [
    "### GETNEXT request for IP. ipAddrTable. ipAddrEntry.IPADENTADDR"
   ]
  },
  {
   "cell_type": "code",
   "execution_count": 29,
   "id": "849349d9",
   "metadata": {},
   "outputs": [
    {
     "name": "stderr",
     "output_type": "stream",
     "text": [
      "DEBUG:snmp.v1:Sent request to 127.0.0.1 (ID=-1615253333)\n",
      "DEBUG:snmp.v1:Done processing response from 127.0.0.1 (ID=-1615253333)\n",
      "DEBUG:snmp.v1:Sent request to 192.168.1.103 (ID=1064460630)\n",
      "DEBUG:snmp.v1:Done processing response from 192.168.1.103 (ID=1064460630)\n",
      "DEBUG:snmp.v1:Sending shutdown signal to helper threads\n",
      "DEBUG:snmp.v1:Monitor thread exiting\n"
     ]
    },
    {
     "name": "stdout",
     "output_type": "stream",
     "text": [
      "VarBind:\n",
      "\tOID: '1.3.6.1.2.1.4.20.1.1.127.0.0.1'\n",
      "\tIpAddress: '127.0.0.1'\n",
      "\n",
      "VarBind:\n",
      "\tOID: '1.3.6.1.2.1.4.20.1.1.127.0.0.1'\n",
      "\tIpAddress: '127.0.0.1'\n",
      "\n",
      "Took 0.11158132553100586 seconds\n"
     ]
    },
    {
     "name": "stderr",
     "output_type": "stream",
     "text": [
      "DEBUG:snmp.v1:Listener thread exiting\n",
      "DEBUG:snmp.v1:All helper threads done\n"
     ]
    }
   ],
   "source": [
    "# REPLACE 'public' with your community string\n",
    "manager = Manager(b'public')\n",
    "try:\n",
    "    hosts = [\"127.0.0.1\",\"192.168.1.103\"]                  # REPLACE these IPs with real IPs\n",
    "    oids = [\"1.3.6.1.2.1.4.20.1.1\"]   # [ IP. ipAddrTable. ipAddrEntry.IPADENTADDR]\n",
    "\n",
    "    start = time.time()\n",
    "    logging.basicConfig(level=logging.DEBUG)\n",
    "    # removing this loop will increase run time on average\n",
    "\n",
    "\n",
    "    for host in hosts:\n",
    "\n",
    "        vars = manager.get(host, *oids, next=True)\n",
    "        for var in vars:\n",
    "            print(var)\n",
    "\n",
    "    end = time.time()\n",
    "    print(\"Took {} seconds\".format(end - start))\n",
    "\n",
    "except Timeout as e:\n",
    "    print(\"Request for {} from host {} timed out\".format(e, host))\n",
    "\n",
    "finally:\n",
    "    manager.close()"
   ]
  },
  {
   "cell_type": "markdown",
   "id": "877aee07",
   "metadata": {},
   "source": [
    "### SET req for sysContact"
   ]
  },
  {
   "cell_type": "code",
   "execution_count": 30,
   "id": "214238ce",
   "metadata": {
    "scrolled": true
   },
   "outputs": [
    {
     "name": "stderr",
     "output_type": "stream",
     "text": [
      "DEBUG:snmp.v1:SET request sent to 127.0.0.1 (ID=1445855347):\n",
      "SetRequestPDU:\n",
      "\tINTEGER: 1445855347\n",
      "\tINTEGER: 0\n",
      "\tINTEGER: 0\n",
      "\tVarBindList:\n",
      "\t\tVarBind:\n",
      "\t\t\tOID: '1.3.6.1.2.1.1.4.0'\n",
      "\t\t\tOCTET_STRING: b'Benzo'\n",
      "\n",
      "DEBUG:snmp.v1:Done processing response from 127.0.0.1 (ID=1445855347)\n",
      "DEBUG:snmp.v1:SET request sent to 192.168.1.103 (ID=-1403256602):\n",
      "SetRequestPDU:\n",
      "\tINTEGER: -1403256602\n",
      "\tINTEGER: 0\n",
      "\tINTEGER: 0\n",
      "\tVarBindList:\n",
      "\t\tVarBind:\n",
      "\t\t\tOID: '1.3.6.1.2.1.1.4.0'\n",
      "\t\t\tOCTET_STRING: b'Benzo'\n",
      "\n",
      "DEBUG:snmp.v1:Done processing response from 192.168.1.103 (ID=-1403256602)\n",
      "DEBUG:snmp.v1:Sending shutdown signal to helper threads\n",
      "DEBUG:snmp.v1:Monitor thread exiting\n"
     ]
    },
    {
     "name": "stdout",
     "output_type": "stream",
     "text": [
      "127.0.0.1\n",
      "VarBind:\n",
      "\tOID: '1.3.6.1.2.1.1.4.0'\n",
      "\tOCTET_STRING: b'Benzo'\n",
      "\n",
      "192.168.1.103\n",
      "VarBind:\n",
      "\tOID: '1.3.6.1.2.1.1.4.0'\n",
      "\tOCTET_STRING: b'Benzo'\n",
      "\n",
      "Took 0.0681908130645752 seconds\n"
     ]
    },
    {
     "name": "stderr",
     "output_type": "stream",
     "text": [
      "DEBUG:snmp.v1:Listener thread exiting\n",
      "DEBUG:snmp.v1:All helper threads done\n"
     ]
    }
   ],
   "source": [
    "# REPLACE 'public' with your community string\n",
    "manager = Manager(b'public')\n",
    "try:\n",
    "    hosts = [\"127.0.0.1\",\"192.168.1.103\"]                   # REPLACE these IPs with real IPs\n",
    "    oid = \"1.3.6.1.2.1.1.4.0\"   # [syscontact.0]\n",
    "\n",
    "    start = time.time()\n",
    "    value=\"Benzo\"\n",
    "    logging.basicConfig(level=logging.DEBUG)\n",
    "    # removing this loop will increase run time on average\n",
    "\n",
    "    for host in hosts:\n",
    "        vars = manager.set(host, oid, value)\n",
    "        print(host)\n",
    "        for var in vars:\n",
    "            print(var)\n",
    "\n",
    "\n",
    "\n",
    "    end = time.time()\n",
    "    print(\"Took {} seconds\".format(end - start))\n",
    "\n",
    "except Timeout as e:\n",
    "    print(\"Request for {} from host {} timed out\".format(e, host))\n",
    "\n",
    "finally:\n",
    "    manager.close()"
   ]
  },
  {
   "cell_type": "markdown",
   "id": "5b9b240c",
   "metadata": {},
   "source": [
    "## TRAP Over location"
   ]
  },
  {
   "cell_type": "code",
   "execution_count": 31,
   "id": "43eed88c",
   "metadata": {},
   "outputs": [],
   "source": [
    "from pysnmp.hlapi import *\n",
    "\n",
    "def sendSNMP_Trap(destination, community_string,oid):\n",
    "    logging.basicConfig(level=logging.DEBUG)\n",
    "    community = CommunityData(community_string)\n",
    "    target = UdpTransportTarget((destination, 162))\n",
    "    notification_type = None\n",
    "    req = sendNotification(SnmpEngine(), community, target, ContextData(), 'trap', NotificationType(ObjectIdentity(oid), OctetString('Benzo')))\n",
    "    next(req)\n"
   ]
  },
  {
   "cell_type": "code",
   "execution_count": 32,
   "id": "52a291ff",
   "metadata": {},
   "outputs": [],
   "source": [
    "sendSNMP_Trap('192.168.1.103', \"public\",\"1.3.6.1.2.1.1.4.0\")"
   ]
  },
  {
   "cell_type": "code",
   "execution_count": 33,
   "id": "0e7b0d5c",
   "metadata": {},
   "outputs": [
    {
     "name": "stderr",
     "output_type": "stream",
     "text": [
      "DEBUG:snmp.v1:Sending shutdown signal to helper threads\n",
      "DEBUG:snmp.v1:Monitor thread exiting\n",
      "DEBUG:snmp.v1:Listener thread exiting\n",
      "DEBUG:snmp.v1:All helper threads done\n"
     ]
    },
    {
     "name": "stdout",
     "output_type": "stream",
     "text": [
      "Took 0.9114341735839844 seconds\n"
     ]
    }
   ],
   "source": [
    "#New_Set:-\n",
    "\n",
    "# REPLACE 'public' with your community string\n",
    "manager = Manager(b'public')\n",
    "try:\n",
    "    hosts = [\"127.0.0.1\",\"192.168.1.103\"]                 # REPLACE these IPs with real IPs\n",
    "    oid = \"1.3.6.1.2.1.1.6.0\"   # [sysLocation.0]\n",
    "\n",
    "    start = time.time()\n",
    "    value=[1,2,2]\n",
    "    \n",
    "    # removing this loop will increase run time on average\n",
    "    logging.basicConfig(level=logging.DEBUG)\n",
    "    for host in hosts:\n",
    "        if (type(value) == str):\n",
    "            vars = manager.set(host, oid, value)\n",
    "            print(host)\n",
    "            for var in vars:\n",
    "                print(var)\n",
    "        else:\n",
    "            sendSNMP_Trap(host,'public',oid)\n",
    "\n",
    "\n",
    "\n",
    "    end = time.time()\n",
    "    print(\"Took {} seconds\".format(end - start))\n",
    "\n",
    "except Timeout as e:\n",
    "    print(\"Request for {} from host {} timed out\".format(e, host))\n",
    "\n",
    "finally:\n",
    "    manager.close()"
   ]
  },
  {
   "cell_type": "markdown",
   "id": "ac5a9f64",
   "metadata": {},
   "source": [
    "### "
   ]
  },
  {
   "cell_type": "code",
   "execution_count": null,
   "id": "484cc5d2",
   "metadata": {},
   "outputs": [],
   "source": []
  },
  {
   "cell_type": "code",
   "execution_count": null,
   "id": "5722f812",
   "metadata": {},
   "outputs": [],
   "source": []
  },
  {
   "cell_type": "code",
   "execution_count": null,
   "id": "68d6803e",
   "metadata": {},
   "outputs": [],
   "source": []
  },
  {
   "cell_type": "code",
   "execution_count": null,
   "id": "8ffc4381",
   "metadata": {},
   "outputs": [],
   "source": []
  }
 ],
 "metadata": {
  "kernelspec": {
   "display_name": "Python 3",
   "language": "python",
   "name": "python3"
  },
  "language_info": {
   "codemirror_mode": {
    "name": "ipython",
    "version": 3
   },
   "file_extension": ".py",
   "mimetype": "text/x-python",
   "name": "python",
   "nbconvert_exporter": "python",
   "pygments_lexer": "ipython3",
   "version": "3.8.8"
  }
 },
 "nbformat": 4,
 "nbformat_minor": 5
}
